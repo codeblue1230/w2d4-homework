{
 "cells": [
  {
   "cell_type": "markdown",
   "metadata": {},
   "source": [
    "# User-Defined Functions & Scoping"
   ]
  },
  {
   "cell_type": "markdown",
   "metadata": {},
   "source": [
    "## Tasks Today:\n",
    "\n",
    "\n",
    "1) Functions <br>\n",
    " &nbsp;&nbsp;&nbsp;&nbsp; a) User-Defined vs. Built-In Functions <br>\n",
    " &nbsp;&nbsp;&nbsp;&nbsp; b) Accepting Parameters <br>\n",
    " &nbsp;&nbsp;&nbsp;&nbsp; c) Default Parameters <br>\n",
    " &nbsp;&nbsp;&nbsp;&nbsp; d) Making an Argument Optional <br>\n",
    " &nbsp;&nbsp;&nbsp;&nbsp; e) Keyword Arguments <br>\n",
    " &nbsp;&nbsp;&nbsp;&nbsp; f) Returning Values <br>\n",
    " &nbsp;&nbsp;&nbsp;&nbsp; g) *args <br>\n",
    " &nbsp;&nbsp;&nbsp;&nbsp; h) Docstring <br>\n",
    " &nbsp;&nbsp;&nbsp;&nbsp; i) Using a User Function in a Loop <br>\n",
    "2) Scope\n",
    "3) Creating more User-Defined functions "
   ]
  },
  {
   "cell_type": "markdown",
   "metadata": {},
   "source": [
    "\n",
    "## Functions"
   ]
  },
  {
   "cell_type": "markdown",
   "metadata": {},
   "source": [
    "##### User-Defined vs. Built-In Functions"
   ]
  },
  {
   "cell_type": "code",
   "execution_count": null,
   "metadata": {},
   "outputs": [],
   "source": [
    "#built in function\n",
    "print(\"hello\")\n",
    "#len()\n",
    "#range()\n",
    "\n",
    "def say_hello():\n",
    "    print(\"hello\")\n",
    "\n",
    "#always need parantheses at the end of a function call    \n",
    "say_hello()\n"
   ]
  },
  {
   "cell_type": "markdown",
   "metadata": {},
   "source": [
    "##### Accepting Parameters"
   ]
  },
  {
   "cell_type": "code",
   "execution_count": null,
   "metadata": {
    "scrolled": true
   },
   "outputs": [],
   "source": [
    "# elements passed into a function\n",
    "# variables to hold the place of items our function will act upon\n",
    "# order matters\n",
    "# a parameter can be of any object type (data type)\n",
    "# parameter when naming a function\n",
    "# argument when calling a function\n",
    "               \n",
    "             #parameter\n",
    "def say_hello(username):\n",
    "    print(f\"hello, {username}\")\n",
    "            #argument\n",
    "say_hello(\"Rhoadehouse\")\n",
    "\n",
    "def make_sentence(noun, verb, adjective):\n",
    "    print(f\"The {adjective} {noun} {verb} across the street.\" )\n",
    "                      #arguments\n",
    "make_sentence(\"dog\", \"scooted\", \"beautiful\")\n",
    "\n",
    "\n"
   ]
  },
  {
   "cell_type": "markdown",
   "metadata": {},
   "source": [
    "##### Default Parameters"
   ]
  },
  {
   "cell_type": "code",
   "execution_count": null,
   "metadata": {},
   "outputs": [],
   "source": [
    "# default parameters must always come after non-default parameters at all times forever and ever...or else\n",
    "def agent_name(first_name, last_name=\"Bond\"):\n",
    "    print(f\"The name is {last_name}.... {first_name} {last_name}\")\n",
    "agent_name(\"James\")\n",
    "\n",
    "agent_name(\"Leroy\", \"Jenkins\")\n"
   ]
  },
  {
   "cell_type": "markdown",
   "metadata": {},
   "source": [
    "##### Making an Argument Optional"
   ]
  },
  {
   "cell_type": "code",
   "execution_count": null,
   "metadata": {},
   "outputs": [],
   "source": [
    "def print_horse_name(first, middle = \"\", last = \"Ed\"):\n",
    "    return f\"The horse's name is {first} {middle} {last}\"\n",
    "    \n",
    "print(print_horse_name(\"Mr.\"))\n",
    "\n",
    "print(print_horse_name(\"Bill\", \"the\", \"Pony\"))\n",
    "    "
   ]
  },
  {
   "cell_type": "markdown",
   "metadata": {},
   "source": [
    "##### Keyword Arguments"
   ]
  },
  {
   "cell_type": "code",
   "execution_count": null,
   "metadata": {},
   "outputs": [],
   "source": [
    "#keyword arguments must follow positional arugments\n",
    "\n",
    "def show_hero(name, secret_identity, power=\"flying\"):\n",
    "    return f\"Wow there goes {name} with their cool power of {power} and I am pretty sure their secret identity is {secret_identity}\"\n",
    "\n",
    "print(show_hero(power=\"money\", name=\"batman\", secret_identity=\"Bruce Wayne\"))\n"
   ]
  },
  {
   "cell_type": "code",
   "execution_count": null,
   "metadata": {},
   "outputs": [],
   "source": [
    "#keyword arguments must follow regular arguments\n",
    "my_fav = \"yellow\"\n",
    "def print_colors(color1, color2, color3):\n",
    "    return f\"Here are some neat colors: {color1}, {color2}, and {color3}.\"\n",
    "    \n",
    "print(print_colors(my_fav, color3=\"orange\", color2=\"magenta\")) \n",
    "    "
   ]
  },
  {
   "cell_type": "markdown",
   "metadata": {},
   "source": [
    "# Creating a start, stop, step function"
   ]
  },
  {
   "cell_type": "code",
   "execution_count": null,
   "metadata": {
    "scrolled": true
   },
   "outputs": [],
   "source": [
    "def my_range(stop, start=0, step=1):\n",
    "    squared_nums = []\n",
    "    for i in range(start, stop, step):\n",
    "        squared_nums.append(i**2)\n",
    "    return squared_nums, \"Hey great job, you're beautiful\"\n",
    "print(my_range(20))"
   ]
  },
  {
   "cell_type": "markdown",
   "metadata": {},
   "source": [
    "##### Returning Values"
   ]
  },
  {
   "cell_type": "code",
   "execution_count": null,
   "metadata": {},
   "outputs": [],
   "source": [
    "def add_nums(num1, num2):\n",
    "    return num1 + num2\n",
    "\n",
    "add_nums(1,2)\n",
    "\n",
    "added_nums = add_nums(1, 2)\n",
    "\n",
    "print(added_nums)\n",
    "\n",
    "def multiple_nums(num2, num3):\n",
    "    return num2 * num3\n",
    "\n",
    "print(multiple_nums(added_nums, 4))\n",
    "\n",
    "def subtract_nums(num1, num2):\n",
    "    return num1 - num2\n",
    "\n",
    "print(subtract_nums(multiple_nums(2, 4), add_nums(4, 6)))\n",
    "\n"
   ]
  },
  {
   "cell_type": "code",
   "execution_count": null,
   "metadata": {},
   "outputs": [],
   "source": [
    "poke_list = [\"Charmander\", \"Squirtle\", \"Cyndaquil\", \"Chikorita\", \"Totodile\"]\n",
    "def find_a_bulbasaur(arr):\n",
    "    for poke in arr:\n",
    "        if poke == \"Bulbasuar\":\n",
    "            return \"Bulba Bulba\"\n",
    "    return \"No Bulbasaur, sad\"\n",
    "find_a_bulbasaur(poke_list)"
   ]
  },
  {
   "cell_type": "code",
   "execution_count": null,
   "metadata": {},
   "outputs": [],
   "source": [
    "def is_bulbasaur(string):\n",
    "    if string == \"Bulba Bulba\":\n",
    "        return \"You caught a Bulbasaur!\"\n",
    "    \n",
    "    return \"Oh!  THe Bulbasaur appeared to be caught...\"\n",
    "is_bulbasaur(find_a_bulbasaur(poke_list))"
   ]
  },
  {
   "cell_type": "markdown",
   "metadata": {},
   "source": [
    "##### *args / **kwargs (keyword arguments)"
   ]
  },
  {
   "cell_type": "code",
   "execution_count": null,
   "metadata": {
    "scrolled": true
   },
   "outputs": [],
   "source": [
    "#*args, **kwargs\n",
    "# *args stands for arguments and will allow the function to take in any number of arguments\n",
    "# **kwargs stands for key word arguments and will allow the function to take in any number of keyword arguments\n",
    "# if other parameters are present, args and kwargs must go last\n",
    "\n",
    "def print_args(pos_arg1, pos_arg2, pos_name, *args, **kwargs):\n",
    "    print(f\"These are my positional arguments: {pos_arg1}, {pos_arg2}, {pos_name}\")\n",
    "    print(\"These are my args\")\n",
    "    for arg in args:\n",
    "        print(arg)\n",
    "    print(\"These are my kwargs\")\n",
    "    for key, value in kwargs.items():\n",
    "        print(key, value)\n",
    "    return \"That was a really nice time, thanks for the mmrs\"\n",
    "\n",
    "print_args(\"Lamp\", \"Speaker\", \"Alex\", \"Cheetor\", \"Mega Man\", \"Mouse\", \"Monitor\", \"Bob Ross Drawing Game\", language=\"python\", cohort=\"Rangers\", time=\"Very Good\", weather=\"hot\")\n",
    "\n"
   ]
  },
  {
   "cell_type": "code",
   "execution_count": null,
   "metadata": {},
   "outputs": [],
   "source": [
    "def print_args(pos_arg1, pos_arg2, pos_name, *args, **kwargs):\n",
    "    print(f\"These are my positional arguments: {pos_arg1}, {pos_arg2}, {pos_name}\")\n",
    "    print(\"These are my args\")\n",
    "    for arg in args:\n",
    "        print(arg)\n",
    "    print(\"These are my kwargs\")\n",
    "    for key, value in kwargs.items():\n",
    "        print(key, value)\n",
    "    return \"That was a really nice time, thanks for the mmrs\"\n",
    "\n",
    "print_args(\"Lamp\", \"Speaker\", \"Alex\")"
   ]
  },
  {
   "cell_type": "markdown",
   "metadata": {},
   "source": [
    "##### Docstring"
   ]
  },
  {
   "cell_type": "code",
   "execution_count": null,
   "metadata": {},
   "outputs": [],
   "source": [
    "# docstrings are a really nice way to leave notes about funciontality in your code\n",
    "# provide instructions\n",
    "\n",
    "def print_names(arr):\n",
    "    \"\"\"\n",
    "    print_names(arr)\n",
    "    Function requires a list to be passed in as an argument\n",
    "    It will print the contents of the list that should be strings.\n",
    "    It is a really great function and I am proud of it.  Great job, function\n",
    "    \"\"\"\n",
    "    \n",
    "    #loop throught list of names and print them\n",
    "    for name in arr:\n",
    "        print(name)\n",
    "        \n",
    "    print(\"\"\"\n",
    "    Here are the instructions for the function:\n",
    "    step1: pass a list in as a parameter\n",
    "    step2:....profit?\n",
    "    \"\"\")\n",
    "    \n",
    "    return \"Wow would ya just look at all those beauftiful names!\"\n",
    "\n",
    "print_names([\"Alex\", \"Saraa\", \"Eduardo\", \"Hussain\", \"Gus\", \"Sam\", \"Marc\"])\n",
    "\n",
    "    \n",
    "help(print_names)    \n",
    "    "
   ]
  },
  {
   "cell_type": "markdown",
   "metadata": {},
   "source": [
    "##### Using a User Function in a Loop"
   ]
  },
  {
   "cell_type": "code",
   "execution_count": null,
   "metadata": {},
   "outputs": [],
   "source": [
    "def print_input(suggestion):\n",
    "    return f\"I say heyeyeyyayayayayayayayay {suggestion}\"\n",
    "\n",
    "while True:\n",
    "    ask = input(\"What's going on? \")\n",
    "        \n",
    "    print(print_input(ask))\n",
    "        \n",
    "    response = input(\"Are you ready to quit? \")\n",
    "    if response.lower() == \"yes\":\n",
    "        print(\"have a nice time\")\n",
    "        break\n",
    "\n",
    "\n",
    "\n"
   ]
  },
  {
   "cell_type": "code",
   "execution_count": null,
   "metadata": {},
   "outputs": [],
   "source": [
    "#Example of calling functions inside a function\n",
    "def print_input(suggestion):\n",
    "    return f\"I say heyeyeyeye{suggestion}\"\n",
    "    \n",
    "    \n",
    "    \n",
    "def take_suggestion(function):\n",
    "    \n",
    "    while True:\n",
    "        ask = input(\"whats going on?\")\n",
    "        \n",
    "        function(ask)\n",
    "        \n",
    "        response = input(\"Are you ready to quit?\")\n",
    "        if response.lower() == 'yes':\n",
    "            print(\"have a nice time\")\n",
    "            break\n",
    "        \n",
    "    return\n",
    "    \n",
    "take_suggestion(print_input)"
   ]
  },
  {
   "cell_type": "code",
   "execution_count": null,
   "metadata": {
    "scrolled": true
   },
   "outputs": [],
   "source": [
    "def add_to_cart():\n",
    "    item = input(\"What would you like to add? \")\n",
    "    quantity = input(\"How many would you like to add?\")\n",
    "    \n",
    "    store[item] = quantity\n",
    "    "
   ]
  },
  {
   "cell_type": "markdown",
   "metadata": {},
   "source": [
    "## Function Exercises <br>\n",
    "### Exercise 1\n",
    "<p>Write a function that loops through a list of first_names and a list of last_names, combines the two and return a list of full_names</p>"
   ]
  },
  {
   "cell_type": "code",
   "execution_count": null,
   "metadata": {},
   "outputs": [],
   "source": [
    "first_name = ['John', 'Evan', 'Jordan', 'Max']\n",
    "last_name = ['Smith', 'Smith', 'Williams', 'Bell']\n",
    "\n",
    "# Output: ['John Smith', 'Evan Smith', 'Jordan Williams', 'Max Bell']\n",
    "\n",
    "def fullnamemaker(lista, listb):\n",
    "    \"\"\"\n",
    "    Create the list of fullnames. \n",
    "    \"\"\"\n",
    "    output = []\n",
    "    if len(lista) < len(listb):\n",
    "        listlength = len(lista) \n",
    "    else:\n",
    "        listlength = len(listb)\n",
    "    for i in range(listlength):\n",
    "        output.append(lista[i] + \" \" + listb[i])\n",
    "    return output\n",
    "\n",
    "fullnamemaker(first_name, last_name)\n",
    "\n"
   ]
  },
  {
   "cell_type": "markdown",
   "metadata": {},
   "source": [
    "### Exercise 2\n",
    "Create a function that alters all values in the given list by subtracting 5 and then doubling them."
   ]
  },
  {
   "cell_type": "code",
   "execution_count": null,
   "metadata": {},
   "outputs": [],
   "source": [
    "input_list = [5,10,15,20,3]\n",
    "# output = [0,10,20,30,-4]\n",
    "\n",
    "def sub_dub(list):\n",
    "    for num in list:\n",
    "        print((num - 5) * 2)\n",
    "    \n",
    "sub_dub(input_list)\n",
    "    \n",
    "    "
   ]
  },
  {
   "cell_type": "markdown",
   "metadata": {},
   "source": [
    "### Exercise 3\n",
    "Create a function that takes in a list of strings and filters out the strings that DO NOT contain vowels. "
   ]
  },
  {
   "cell_type": "code",
   "execution_count": null,
   "metadata": {},
   "outputs": [],
   "source": [
    "string_list = ['Sheldon','Pnny','Leonard','Hwrd','Rj','Amy','Strt']\n",
    "# output = ['Sheldon','Leonard','Amy']\n",
    "\n",
    "def vowels_only(arr):\n",
    "    vowels = ['a', 'e', 'i', 'o', 'u']\n",
    "    new_list = []\n",
    "    for name in arr:\n",
    "        for vowel in vowels:\n",
    "            if vowel in name.lower():\n",
    "                new_list.append(name)\n",
    "                break\n",
    "                \n",
    "        \n",
    "        \n",
    "    return new_list\n",
    "\n",
    "vowels_only(string_list)\n",
    "        \n"
   ]
  },
  {
   "cell_type": "markdown",
   "metadata": {},
   "source": [
    "### Exercise 4\n",
    "Create a function that accepts a list as a parameter and returns a dictionary containing the list items as it's keys, and the number of times they appear in the list as the values"
   ]
  },
  {
   "cell_type": "code",
   "execution_count": null,
   "metadata": {},
   "outputs": [],
   "source": [
    "example_list = [\"Harry\", 'Hermione','Harry','Ron','Dobby','Draco','Luna','Harry','Hermione','Ron','Ron','Ron']\n",
    "\n",
    "# output = {\n",
    "#     \"Harry\":3,\n",
    "#     \"Hermione\":2,\n",
    "#     \"Ron\":4,\n",
    "#     \"Dobby\":1,\n",
    "#     \"Draco\":1,\n",
    "#     \"Luna\": 1\n",
    "# }\n",
    "    \n",
    "def hogwarts(arr):\n",
    "    students = {}\n",
    "    for i in arr:\n",
    "        if i not in students:\n",
    "            students[i] = 1\n",
    "        else:\n",
    "            students[i] += 1\n",
    "    return students\n",
    "\n",
    "hogwarts(example_list)\n",
    "    "
   ]
  },
  {
   "cell_type": "markdown",
   "metadata": {},
   "source": [
    "\n",
    "\n",
    "## Scope <br>\n",
    "<p>Scope refers to the ability to access variables, different types of scope include:<br>a) Global<br>b) Function (local)<br>c) Class (local)</p>"
   ]
  },
  {
   "cell_type": "code",
   "execution_count": null,
   "metadata": {},
   "outputs": [],
   "source": [
    "# placement of variable declaration matters\n",
    "number = 3 #<--- global variable\n",
    "#its not confined to a function or class\n",
    "\n",
    "def print_num():\n",
    "    return number\n",
    "\n",
    "def say_hello_num():\n",
    "    return f\"hello {number}\"\n",
    "\n",
    "print(print_num())\n",
    "\n",
    "print(say_hello_num())\n"
   ]
  },
  {
   "cell_type": "code",
   "execution_count": null,
   "metadata": {},
   "outputs": [],
   "source": [
    "def square_nums(arr):\n",
    "    squared_list = []\n",
    "    \n",
    "    for num in arr:\n",
    "        squared_list.append(num**2)\n",
    "    return squared_list\n",
    "print(square_nums([2,3,4,5,6]))\n",
    "def steal_squared():\n",
    "    return squared_list\n",
    "\n",
    "steal_squared()"
   ]
  },
  {
   "cell_type": "code",
   "execution_count": null,
   "metadata": {},
   "outputs": [],
   "source": [
    "class Dog():\n",
    "    \n",
    "    KIND_OF_DOG = \"Chihuahua Mix\"\n",
    "    def _init_(self, color, name):\n",
    "        self.color = color\n",
    "        self.name = name\n",
    "        \n",
    "print(KIND_OF_DOG)\n",
    "        \n",
    "        "
   ]
  },
  {
   "cell_type": "markdown",
   "metadata": {},
   "source": [
    "## Modules"
   ]
  },
  {
   "cell_type": "markdown",
   "metadata": {},
   "source": [
    "##### Importing Entire Modules\n"
   ]
  },
  {
   "cell_type": "code",
   "execution_count": null,
   "metadata": {},
   "outputs": [],
   "source": [
    "## Modules\n",
    "import math\n",
    "\n",
    "num = 5\n",
    "num = 2\n",
    "\n",
    "print(math.ceil(3/2))\n",
    "\n",
    "print(math.pi)\n",
    "\n",
    "print(math.ceil(math.pi))\n"
   ]
  },
  {
   "cell_type": "markdown",
   "metadata": {},
   "source": [
    "##### Importing Methods Only"
   ]
  },
  {
   "cell_type": "code",
   "execution_count": null,
   "metadata": {},
   "outputs": [],
   "source": [
    "# from xxx import yyy\n",
    "#from math import floor\n",
    "from math import floor, pi, ceil\n",
    "\n",
    "print(pi)\n",
    "print(floor(pi))\n",
    "print(ceil(pi))\n",
    "\n"
   ]
  },
  {
   "cell_type": "markdown",
   "metadata": {},
   "source": [
    "##### Using the 'as' Keyword"
   ]
  },
  {
   "cell_type": "code",
   "execution_count": null,
   "metadata": {},
   "outputs": [],
   "source": [
    "# from xxx import yyy as z\n",
    "from math import floor as f, pi as p, ceil as c\n",
    "\n",
    "print(p)\n",
    "print(c(p))\n",
    "print(f(p))\n"
   ]
  },
  {
   "cell_type": "markdown",
   "metadata": {},
   "source": [
    "##### Creating a Module"
   ]
  },
  {
   "cell_type": "code",
   "execution_count": null,
   "metadata": {},
   "outputs": [],
   "source": [
    "from module import printName as pn\n",
    "\n",
    "pn(\"Ryan\")\n"
   ]
  },
  {
   "cell_type": "code",
   "execution_count": null,
   "metadata": {},
   "outputs": [],
   "source": []
  },
  {
   "cell_type": "code",
   "execution_count": null,
   "metadata": {},
   "outputs": [],
   "source": []
  },
  {
   "cell_type": "markdown",
   "metadata": {},
   "source": [
    "# Homework Exercises"
   ]
  },
  {
   "cell_type": "markdown",
   "metadata": {},
   "source": [
    "### 1) Create a Module in VS Code and Import It into jupyter notebook <br>\n",
    "<p><b>Module should have the following capabilities:</b><br><br>\n",
    "1a) Has a function to calculate the square footage of a house <br>\n",
    "    <b>Reminder of Formula: Length X Width == Area</b><br>\n",
    "        <hr>\n",
    "1b) Has a function to calculate the circumference of a circle 2 Pi r <br><br>\n",
    "<b>Program in Jupyter Notebook should take in user input and use imported functions to calculate a circle's circumference or a houses square footage</b>\n",
    "</p>"
   ]
  },
  {
   "cell_type": "code",
   "execution_count": null,
   "metadata": {},
   "outputs": [],
   "source": [
    "import marc_module\n",
    "\n",
    "#1A)\n",
    "print(marc_module.area(30, 20))\n",
    "\n",
    "#1B)\n",
    "print(marc_module.circ(5))\n"
   ]
  },
  {
   "cell_type": "markdown",
   "metadata": {},
   "source": [
    "### 2) Build a Shopping Cart Function <br>\n",
    "<p><b>You can use either lists or dictionaries. The program should have the following capabilities:</b><br><br>\n",
    "1) Takes in input <br>\n",
    "2) Stores user input into a dictionary or list <br>\n",
    "3) The User can add or delete items <br>\n",
    "4) The User can see current shopping list <br>\n",
    "5) The program Loops until user 'quits' <br>\n",
    "6) Upon quiting the program, print out all items in the user's list <br>\n",
    "</p>"
   ]
  },
  {
   "cell_type": "code",
   "execution_count": null,
   "metadata": {},
   "outputs": [],
   "source": [
    "def shopping():\n",
    "    blank_dict = {} \n",
    "    blank_list = []\n",
    "    while True:\n",
    "        first_cart = input(\"Would you like to put an item in your shopping cart?\\nType 'Yes' to continue, type 'No' to quit, or type 'Check' to see the contents of your cart: \")\n",
    "        if first_cart.lower() == \"no\":\n",
    "            if blank_list == []:\n",
    "                return \"Your shopping cart is empty.\"\n",
    "            else:\n",
    "                return f\"Shopping Cart\\n{blank_dict}\"\n",
    "        elif first_cart.lower() == \"check\":\n",
    "            if blank_list == []:\n",
    "                print(\"Cart Contents: None\")\n",
    "            else:\n",
    "                while True:\n",
    "                    print(blank_dict)\n",
    "                    del_items = input(\"If you wish to remove an item type it's name, otherwise type 'Continue': \")\n",
    "                    if del_items.lower() == \"continue\":\n",
    "                        break\n",
    "                    elif del_items.lower() in blank_list:\n",
    "                        blank_list.remove(del_items)\n",
    "                    else:\n",
    "                        print(\"Sorry, that input is invalid\")\n",
    "        elif first_cart.lower() == \"yes\":               \n",
    "            ask_user = input(\"What would you like to add to your shopping cart? \")\n",
    "            blank_list.append(ask_user)\n",
    "            blank_dict[\"Items\"] =  blank_list\n",
    "        else:\n",
    "            print(\"Sorry, you must type 'Yes', 'No', or 'Check'.\")\n",
    "            continue\n",
    "            \n",
    "        \n",
    "print(shopping())\n",
    "\n",
    "#Ended up putting a list as the value of my dictionary with \"Items\" as the key.  I wanted to have a dictionary\n",
    "#with each item in the cart having it's own key, but I was having trouble adding them so I decided to append\n",
    "#them to a list inside my dictionary\n",
    "\n",
    "        \n",
    "        "
   ]
  },
  {
   "cell_type": "code",
   "execution_count": null,
   "metadata": {},
   "outputs": [],
   "source": []
  }
 ],
 "metadata": {
  "kernelspec": {
   "display_name": "Python 3 (ipykernel)",
   "language": "python",
   "name": "python3"
  },
  "language_info": {
   "codemirror_mode": {
    "name": "ipython",
    "version": 3
   },
   "file_extension": ".py",
   "mimetype": "text/x-python",
   "name": "python",
   "nbconvert_exporter": "python",
   "pygments_lexer": "ipython3",
   "version": "3.11.3"
  }
 },
 "nbformat": 4,
 "nbformat_minor": 2
}
